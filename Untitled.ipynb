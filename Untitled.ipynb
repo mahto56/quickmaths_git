{
 "cells": [
  {
   "cell_type": "code",
   "execution_count": 1,
   "metadata": {},
   "outputs": [],
   "source": [
    "from quickmaths.utils.parser_v2 import *"
   ]
  },
  {
   "cell_type": "code",
   "execution_count": 2,
   "metadata": {},
   "outputs": [],
   "source": [
    "class Symbol:\n",
    "    def __init__(self,min_x,min_y,max_x,max_y,label):\n",
    "        self.label = label\n",
    "        self.min_x = min_x\n",
    "        self.min_y = min_y\n",
    "        self.max_x = max_x\n",
    "        self.max_y = max_y\n",
    "        self.width = max_x - min_x\n",
    "        self.height = max_y - min_y\n",
    "    def __str__(self):\n",
    "        return f'min_x : {self.min_x}\\nmin_y:{self.min_y}\\nmax_x:{self.max_x}\\nmax_y:{self.max_y}\\nheight:{self.height}\\nwidth:{self.width}'"
   ]
  },
  {
   "cell_type": "code",
   "execution_count": 3,
   "metadata": {},
   "outputs": [
    {
     "name": "stdout",
     "output_type": "stream",
     "text": [
      "Creating : -\n",
      "Creating : 8\n",
      "Creating : 9\n",
      "Creating : 5\n"
     ]
    }
   ],
   "source": [
    "a = Symbol(20,30,42,34,'-')\n",
    "b = Symbol(23,20,30,28,'8')\n",
    "c =Symbol(23,38,30,45,'9')\n",
    "d =  Symbol(35,16,40,25,'5')\n",
    "\n",
    "node_a = BSTNode(data=a)\n",
    "node_b = BSTNode(data=b)\n",
    "node_c = BSTNode(data=c)\n",
    "node_d = BSTNode(data=d)"
   ]
  },
  {
   "cell_type": "markdown",
   "metadata": {},
   "source": [
    "# a sample expression\n",
    "```\n",
    "    8  5\n",
    " -------  \n",
    "    9  3 \n",
    "            minx   maxy\n",
    "            |        |\n",
    "            V        V\n",
    "miny --->    ________  \n",
    "            |        |\n",
    "            |        |\n",
    "            |        |\n",
    "maxy --->   |________|\n",
    "\n",
    "\n",
    "Here - : a\n",
    "     8 : b\n",
    "     9 : c\n",
    "     5 : d\n",
    "     \n",
    "So a overlabs b & c\n",
    "```"
   ]
  },
  {
   "cell_type": "code",
   "execution_count": 4,
   "metadata": {},
   "outputs": [],
   "source": [
    "nodelist = [node_a,node_b,node_c,node_d]"
   ]
  },
  {
   "cell_type": "code",
   "execution_count": 6,
   "metadata": {},
   "outputs": [
    {
     "name": "stdout",
     "output_type": "stream",
     "text": [
      "Number of Symbols: 4\n",
      "-     <(20, 30),(42, 34)>\n",
      "8     <(23, 20),(30, 28)>\n",
      "9     <(23, 38),(30, 45)>\n",
      "5     <(35, 16),(40, 25)>\n",
      "\n"
     ]
    }
   ],
   "source": [
    "print(f\"Number of Symbols: {len(nodelist)}\")\n",
    "string = \"\"\n",
    "for sym in nodelist:\n",
    "    string += (f'{sym.label}     <{sym.min_x,sym.min_y},{sym.max_x,sym.max_y}>\\n')\n",
    "print(string)"
   ]
  },
  {
   "cell_type": "code",
   "execution_count": 5,
   "metadata": {},
   "outputs": [
    {
     "name": "stdout",
     "output_type": "stream",
     "text": [
      "Creating : EXPRESSION\n",
      "Creating : -\n",
      "Creating : 8\n",
      "Creating : 9\n",
      "Creating : 5\n",
      "EXPRESSION([-], [8], [9], [5]) \n",
      "START: [-],nodelist: [-, 8, 9, 5]\n",
      "EXPRESSION([-], [8], [9], [5]) \n",
      "current_symbol: [-],list2 is: [-, 8, 9, 5]\n",
      "Creating : ABOVE\n",
      "Creating : BELOW\n",
      "current_symbol: [-]{ABOVE([8], [5]) BELOW([9]) } ,remaining_symbols is: []\n",
      "new snodelist [-]\n",
      "Called CollectRegions with [-]\n",
      "Called CollectRegions with []\n",
      "updated_baseline is: [-]\n",
      "{'ABOVE': ABOVE, 'BELOW': BELOW}\n",
      "region_label: ABOVE\n",
      "START: [8],nodelist: [8, 5]\n",
      "EXPRESSION([-]{ABOVE([8], [5]) BELOW([9]) } ) \n",
      "current_symbol: [8],list2 is: [8, 5]\n",
      "current_symbol: [8],remaining_symbols is: [5]\n",
      "new snodelist [8]\n",
      "EXPRESSION([-]{ABOVE([8], [5]) BELOW([9]) } ) \n",
      "current_symbol: [5],list2 is: [5]\n",
      "current_symbol: [5],remaining_symbols is: []\n",
      "new snodelist [8, 5]\n",
      "Called CollectRegions with [8, 5]\n",
      "Called CollectRegions with [5]\n",
      "Called CollectRegions with []\n",
      "updated_baseline is: [8, 5]\n",
      "{}\n",
      "{}\n",
      "region_label: BELOW\n"
     ]
    }
   ],
   "source": [
    "rnode = BuildBST(nodelist)"
   ]
  },
  {
   "cell_type": "code",
   "execution_count": 6,
   "metadata": {},
   "outputs": [
    {
     "name": "stdout",
     "output_type": "stream",
     "text": [
      "EXPRESSION([-]{ABOVE([8], [5]) BELOW([9]) } ) \n"
     ]
    }
   ],
   "source": [
    "print(rnode)"
   ]
  },
  {
   "cell_type": "code",
   "execution_count": 7,
   "metadata": {},
   "outputs": [
    {
     "data": {
      "text/plain": [
       "False"
      ]
     },
     "execution_count": 7,
     "metadata": {},
     "output_type": "execute_result"
    }
   ],
   "source": [
    "node_b.is_adj(node_d)"
   ]
  },
  {
   "cell_type": "code",
   "execution_count": 8,
   "metadata": {},
   "outputs": [
    {
     "data": {
      "text/plain": [
       "(16, 25, 23, 28)"
      ]
     },
     "execution_count": 8,
     "metadata": {},
     "output_type": "execute_result"
    }
   ],
   "source": [
    "node_d.min_y,node_d.max_y,node_b.min_x,node_b.max_y"
   ]
  },
  {
   "cell_type": "code",
   "execution_count": 9,
   "metadata": {},
   "outputs": [],
   "source": [
    "symbols = nodelist"
   ]
  },
  {
   "cell_type": "code",
   "execution_count": 10,
   "metadata": {},
   "outputs": [],
   "source": [
    "# import numpy as np\n",
    "# import cv2\n",
    "# im = np.zeros([50,50,3],np.uint8)\n",
    "# font                   = cv2.FONT_HERSHEY_SIMPLEX\n",
    "# bottomLeftCornerOfText = (10,500)\n",
    "# fontScale              = 1\n",
    "# fontColor              = (255,255,255)\n",
    "# lineType               = 2\n",
    "\n",
    "# for sym in symbols:\n",
    "#     cv2.rectangle(im, (int(sym.min_x), int(sym.min_y)), (int(sym.max_x),int(sym.max_y)), (255,255,255), 1)\n",
    "# #     cv2.putText(im,sym.label,(int(sym.min_x), int(sym.max_y)), font, fontScale,fontColor,lineType)\n",
    "# cv2.imshow('',im)\n",
    "# cv2.waitKey(0)\n",
    "# cv2.destroyAllWindows()"
   ]
  },
  {
   "cell_type": "code",
   "execution_count": 11,
   "metadata": {},
   "outputs": [],
   "source": [
    "snode = node_b\n",
    "snodelist = [node_d,node_b]"
   ]
  },
  {
   "cell_type": "code",
   "execution_count": 12,
   "metadata": {},
   "outputs": [
    {
     "data": {
      "text/plain": [
       "False"
      ]
     },
     "execution_count": 12,
     "metadata": {},
     "output_type": "execute_result"
    }
   ],
   "source": [
    "node_d.centroid_y < snode.SUPER"
   ]
  },
  {
   "cell_type": "code",
   "execution_count": 13,
   "metadata": {},
   "outputs": [
    {
     "data": {
      "text/plain": [
       "False"
      ]
     },
     "execution_count": 13,
     "metadata": {},
     "output_type": "execute_result"
    }
   ],
   "source": [
    "node_d.centroid_y > snode.SUBSC"
   ]
  },
  {
   "cell_type": "code",
   "execution_count": 14,
   "metadata": {},
   "outputs": [
    {
     "data": {
      "text/plain": [
       "True"
      ]
     },
     "execution_count": 14,
     "metadata": {},
     "output_type": "execute_result"
    }
   ],
   "source": [
    "snode.SUBSC > node_d.centroid_y > snode.SUPER"
   ]
  },
  {
   "cell_type": "code",
   "execution_count": 5,
   "metadata": {},
   "outputs": [
    {
     "name": "stdout",
     "output_type": "stream",
     "text": [
      "Creating : (\n",
      "Creating : -\n",
      "Creating : 2\n",
      "Creating : 3\n",
      "Creating : )\n",
      "Creating : 6\n",
      "Creating : 9\n"
     ]
    }
   ],
   "source": [
    "brc = Symbol(360,54,522,504,'(')\n",
    "node_brc = BSTNode(brc)\n",
    "\n",
    "div = Symbol(360,306,774,342,'-')\n",
    "node_div = BSTNode(div)\n",
    "\n",
    "two1 = Symbol(504,180,648,288,'2')\n",
    "node_two1 = BSTNode(two1)\n",
    "\n",
    "three = Symbol(540,360,648,468,'3')\n",
    "node_three = BSTNode(three)\n",
    "\n",
    "cbrc = Symbol(738,36,828,504,')')\n",
    "node_cbrc = BSTNode(cbrc)\n",
    "\n",
    "six = Symbol(576,108,702,180,'6')\n",
    "node_six = BSTNode(six)\n",
    "\n",
    "nine = Symbol(846,54,936,144,'9')\n",
    "node_nine = BSTNode(nine)\n",
    "\n",
    "nlist = [node_brc,node_div,node_two1,node_three,node_cbrc,node_nine,node_six]\n",
    "list2 = [node_brc,node_div,node_two1,node_three,node_six]"
   ]
  },
  {
   "cell_type": "code",
   "execution_count": 9,
   "metadata": {},
   "outputs": [
    {
     "name": "stdout",
     "output_type": "stream",
     "text": [
      "Number of Symbols: 7\n",
      "(     <(360, 54),(522, 504)>\n",
      "-     <(360, 306),(774, 342)>\n",
      "2     <(504, 180),(648, 288)>\n",
      "3     <(540, 360),(648, 468)>\n",
      ")     <(738, 36),(828, 504)>\n",
      "9     <(846, 54),(936, 144)>\n",
      "6     <(576, 108),(702, 180)>\n"
     ]
    }
   ],
   "source": [
    "print(f\"Number of Symbols: {len(nlist)}\")\n",
    "for sym in nlist:\n",
    "    print(f'{sym.label}     <{sym.min_x,sym.min_y},{sym.max_x,sym.max_y}>')"
   ]
  },
  {
   "cell_type": "code",
   "execution_count": 35,
   "metadata": {},
   "outputs": [],
   "source": [
    "# SortSymbolsByMinX(list2)"
   ]
  },
  {
   "cell_type": "code",
   "execution_count": 36,
   "metadata": {},
   "outputs": [
    {
     "name": "stdout",
     "output_type": "stream",
     "text": [
      "Creating : EXPRESSION\n",
      "Creating : (\n",
      "Creating : -\n",
      "Creating : 2\n",
      "Creating : 3\n",
      "Creating : 6\n",
      "EXPRESSION([(], [-], [2], [3], [6]) \n",
      "START: [(],nodelist: [(, -, 2, 3, 6]\n",
      "EXPRESSION([(], [-], [2], [3], [6]) \n",
      "current_symbol: [(],list2 is: [(, -, 2, 3, 6]\n",
      "current_symbol: [(],remaining_symbols is: [-, 2, 3, 6]\n",
      "new snodelist [(]\n",
      "removing -\n",
      "removing 2\n",
      "removing 3\n",
      "removing 6\n",
      "current_symbol: [(],remaining_symbols1 is: [-, 2, 3, 6]\n",
      "Creating : SUPER\n",
      "current_symbol: [(]{SUPER([2], [3], [6]) } \n",
      "concatelist [(]\n",
      "Called CollectRegions with [(]\n",
      "Called CollectRegions with []\n",
      "updated_baseline is: [(]\n",
      "{'SUPER': SUPER}\n",
      "region_label: SUPER\n",
      "START: [2],nodelist: [2, 3, 6]\n",
      "EXPRESSION([(]{SUPER([2], [3], [6]) } ) \n",
      "current_symbol: [2],list2 is: [2, 3, 6]\n",
      "current_symbol: [2],remaining_symbols is: [3, 6]\n",
      "new snodelist [2]\n",
      "removing 3\n",
      "removing 6\n",
      "current_symbol: [2],remaining_symbols1 is: [3, 6]\n",
      "Creating : SUPER\n",
      "current_symbol: [2]{SUPER([6]) } \n",
      "concatelist [2]\n",
      "Called CollectRegions with [2]\n",
      "Called CollectRegions with []\n",
      "updated_baseline is: [2]\n",
      "{'SUPER': SUPER}\n",
      "region_label: SUPER\n"
     ]
    }
   ],
   "source": [
    "root = BuildBST(list2)"
   ]
  },
  {
   "cell_type": "code",
   "execution_count": 37,
   "metadata": {},
   "outputs": [
    {
     "name": "stdout",
     "output_type": "stream",
     "text": [
      "EXPRESSION([(]{SUPER([2]{SUPER([6]) } ) } ) \n"
     ]
    }
   ],
   "source": [
    "print(root)"
   ]
  },
  {
   "cell_type": "code",
   "execution_count": null,
   "metadata": {},
   "outputs": [],
   "source": [
    "node_nine.min_x > node_cbrc.centroid_x"
   ]
  },
  {
   "cell_type": "code",
   "execution_count": null,
   "metadata": {},
   "outputs": [],
   "source": [
    "node_nine.min_y < node_cbrc.centroid_y"
   ]
  },
  {
   "cell_type": "code",
   "execution_count": null,
   "metadata": {},
   "outputs": [],
   "source": [
    "node_nine.centroid_y"
   ]
  },
  {
   "cell_type": "code",
   "execution_count": null,
   "metadata": {},
   "outputs": [],
   "source": [
    "node_cbrc.SUPER"
   ]
  },
  {
   "cell_type": "code",
   "execution_count": 27,
   "metadata": {},
   "outputs": [
    {
     "data": {
      "text/plain": [
       "[3]"
      ]
     },
     "execution_count": 27,
     "metadata": {},
     "output_type": "execute_result"
    }
   ],
   "source": [
    "Start([node_nine,node_three,node_cbrc,node_nine,node_six])"
   ]
  },
  {
   "cell_type": "code",
   "execution_count": 8,
   "metadata": {},
   "outputs": [
    {
     "name": "stderr",
     "output_type": "stream",
     "text": [
      "Using TensorFlow backend.\n"
     ]
    }
   ],
   "source": [
    "from keras.models import load_model"
   ]
  },
  {
   "cell_type": "code",
   "execution_count": 18,
   "metadata": {},
   "outputs": [],
   "source": [
    "model = load_model('/home/kayshu/OpenCVProjects/quickmaths/models/model_0.1v7.h5')"
   ]
  },
  {
   "cell_type": "code",
   "execution_count": 19,
   "metadata": {},
   "outputs": [
    {
     "name": "stdout",
     "output_type": "stream",
     "text": [
      "_________________________________________________________________\n",
      "Layer (type)                 Output Shape              Param #   \n",
      "=================================================================\n",
      "conv2d_8 (Conv2D)            (None, 26, 26, 32)        320       \n",
      "_________________________________________________________________\n",
      "batch_normalization_8 (Batch (None, 26, 26, 32)        128       \n",
      "_________________________________________________________________\n",
      "conv2d_9 (Conv2D)            (None, 24, 24, 32)        9248      \n",
      "_________________________________________________________________\n",
      "batch_normalization_9 (Batch (None, 24, 24, 32)        128       \n",
      "_________________________________________________________________\n",
      "conv2d_10 (Conv2D)           (None, 12, 12, 32)        25632     \n",
      "_________________________________________________________________\n",
      "batch_normalization_10 (Batc (None, 12, 12, 32)        128       \n",
      "_________________________________________________________________\n",
      "dropout_4 (Dropout)          (None, 12, 12, 32)        0         \n",
      "_________________________________________________________________\n",
      "conv2d_11 (Conv2D)           (None, 10, 10, 64)        18496     \n",
      "_________________________________________________________________\n",
      "batch_normalization_11 (Batc (None, 10, 10, 64)        256       \n",
      "_________________________________________________________________\n",
      "conv2d_12 (Conv2D)           (None, 8, 8, 64)          36928     \n",
      "_________________________________________________________________\n",
      "batch_normalization_12 (Batc (None, 8, 8, 64)          256       \n",
      "_________________________________________________________________\n",
      "conv2d_13 (Conv2D)           (None, 4, 4, 64)          102464    \n",
      "_________________________________________________________________\n",
      "batch_normalization_13 (Batc (None, 4, 4, 64)          256       \n",
      "_________________________________________________________________\n",
      "dropout_5 (Dropout)          (None, 4, 4, 64)          0         \n",
      "_________________________________________________________________\n",
      "conv2d_14 (Conv2D)           (None, 1, 1, 128)         131200    \n",
      "_________________________________________________________________\n",
      "batch_normalization_14 (Batc (None, 1, 1, 128)         512       \n",
      "_________________________________________________________________\n",
      "flatten_2 (Flatten)          (None, 128)               0         \n",
      "_________________________________________________________________\n",
      "dropout_6 (Dropout)          (None, 128)               0         \n",
      "_________________________________________________________________\n",
      "dense_2 (Dense)              (None, 16)                2064      \n",
      "=================================================================\n",
      "Total params: 328,016\n",
      "Trainable params: 327,184\n",
      "Non-trainable params: 832\n",
      "_________________________________________________________________\n"
     ]
    }
   ],
   "source": [
    "model.summary()"
   ]
  },
  {
   "cell_type": "code",
   "execution_count": 20,
   "metadata": {},
   "outputs": [
    {
     "data": {
      "text/plain": [
       "16"
      ]
     },
     "execution_count": 20,
     "metadata": {},
     "output_type": "execute_result"
    }
   ],
   "source": [
    "len(['0', '1', '2', '3', '4', '5', '6', '7', '8', '9', '+', 'x', '-', '(', ')', 'sqrt'])"
   ]
  },
  {
   "cell_type": "code",
   "execution_count": null,
   "metadata": {},
   "outputs": [],
   "source": []
  }
 ],
 "metadata": {
  "kernelspec": {
   "display_name": "Python 3",
   "language": "python",
   "name": "python3"
  },
  "language_info": {
   "codemirror_mode": {
    "name": "ipython",
    "version": 3
   },
   "file_extension": ".py",
   "mimetype": "text/x-python",
   "name": "python",
   "nbconvert_exporter": "python",
   "pygments_lexer": "ipython3",
   "version": "3.7.2"
  }
 },
 "nbformat": 4,
 "nbformat_minor": 2
}
