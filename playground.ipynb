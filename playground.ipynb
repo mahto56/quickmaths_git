{
 "cells": [
  {
   "cell_type": "code",
   "execution_count": 1,
   "metadata": {},
   "outputs": [],
   "source": [
    "from quickmaths.utils.parser import BSTNode"
   ]
  },
  {
   "cell_type": "code",
   "execution_count": 2,
   "metadata": {},
   "outputs": [],
   "source": [
    "from random import randint\n"
   ]
  },
  {
   "cell_type": "code",
   "execution_count": 24,
   "metadata": {},
   "outputs": [],
   "source": [
    "import re\n",
    "def parse(s):\n",
    "    replaced = re.sub(r'tacto.js:\\d{4}', r'', s)\n",
    "    replaced = re.sub(r' _', r'_', replaced)\n",
    "    replaced = replaced.replace('_(', '_brc')\n",
    "    replaced = replaced.replace('_*', '_mul')\n",
    "    replaced = replaced.replace('_)', '_cbrc')\n",
    "    replaced = replaced.replace('_+', '_plus')\n",
    "    replaced = replaced.replace('_-', '_minus')\n",
    "    replaced = replaced.replace('_—','_div')\n",
    "    replaced = replaced.replace('—','-')\n",
    "    replaced = replaced.replace('_<', '_less')\n",
    "    print(replaced)\n",
    "    exec(replaced,globals())\n",
    "    "
   ]
  },
  {
   "cell_type": "code",
   "execution_count": 4,
   "metadata": {},
   "outputs": [],
   "source": [
    "class Symbol:\n",
    "    def __init__(self,min_x,min_y,max_x,max_y,label):\n",
    "        self.label = label\n",
    "        self.min_x = min_x\n",
    "        self.min_y = min_y\n",
    "        self.max_x = max_x\n",
    "        self.max_y = max_y\n",
    "        self.width = max_x - min_x\n",
    "        self.height = max_y - min_y\n",
    "    def __str__(self):\n",
    "        return f'min_x : {self.min_x}\\nmin_y:{self.min_y}\\nmax_x:{self.max_x}\\nmax_y:{self.max_y}\\nheight:{self.height}\\nwidth:{self.width}'"
   ]
  },
  {
   "cell_type": "markdown",
   "metadata": {},
   "source": [
    "# a sample expression\n",
    "```\n",
    "    8  5\n",
    " -------  \n",
    "    9  3 \n",
    "            minx   maxy\n",
    "            |        |\n",
    "            V        V\n",
    "miny --->    ________  \n",
    "            |        |\n",
    "            |        |\n",
    "            |        |\n",
    "maxy --->   |________|\n",
    "\n",
    "\n",
    "Here - : a\n",
    "     8 : b\n",
    "     9 : c\n",
    "     5 : d\n",
    "     \n",
    "So a overlabs b & c\n",
    "```"
   ]
  },
  {
   "cell_type": "code",
   "execution_count": 5,
   "metadata": {},
   "outputs": [],
   "source": [
    "a = Symbol(20,30,42,34,'-')\n",
    "b = Symbol(23,20,30,28,'8')\n",
    "c =Symbol(23,38,30,45,'9')\n",
    "d =  Symbol(35,16,40,25,'5')\n",
    "\n",
    "node_a = BSTNode(data=a)\n",
    "node_b = BSTNode(data=b)\n",
    "node_c = BSTNode(data=c)\n",
    "node_d = BSTNode(data=d)"
   ]
  },
  {
   "cell_type": "code",
   "execution_count": 6,
   "metadata": {},
   "outputs": [
    {
     "data": {
      "text/plain": [
       "True"
      ]
     },
     "execution_count": 6,
     "metadata": {},
     "output_type": "execute_result"
    }
   ],
   "source": [
    "node_a.overlaps(node_d)"
   ]
  },
  {
   "cell_type": "code",
   "execution_count": 7,
   "metadata": {},
   "outputs": [
    {
     "data": {
      "text/plain": [
       "True"
      ]
     },
     "execution_count": 7,
     "metadata": {},
     "output_type": "execute_result"
    }
   ],
   "source": [
    "node_a.overlaps(node_c)"
   ]
  },
  {
   "cell_type": "code",
   "execution_count": 8,
   "metadata": {},
   "outputs": [
    {
     "data": {
      "text/plain": [
       "1"
      ]
     },
     "execution_count": 8,
     "metadata": {},
     "output_type": "execute_result"
    }
   ],
   "source": [
    "node_a.determine_position(node_d)"
   ]
  },
  {
   "cell_type": "code",
   "execution_count": 9,
   "metadata": {},
   "outputs": [
    {
     "data": {
      "text/plain": [
       "3"
      ]
     },
     "execution_count": 9,
     "metadata": {},
     "output_type": "execute_result"
    }
   ],
   "source": [
    "node_c.determine_position(node_b)"
   ]
  },
  {
   "cell_type": "code",
   "execution_count": 10,
   "metadata": {},
   "outputs": [],
   "source": [
    "_3 = Symbol(400,161,419,161,'3')\n",
    "node_3 = BSTNode(data=_3)\n",
    "_brc = Symbol(419,161,432,161,'(')\n",
    "node_brc = BSTNode(data=_brc)\n",
    "_x = Symbol(432,161,451,161,'x')\n",
    "node_x = BSTNode(data=_x)\n",
    "_plus = Symbol(451,161,472,161,'+')\n",
    "node_plus = BSTNode(data=_plus)\n",
    "_1 = Symbol(472,161,491,161,'1')\n",
    "node_1 = BSTNode(data=_1)\n",
    "_cbrc = Symbol(491,161,504,161,')')\n",
    "node_cbrc = BSTNode(data=_cbrc)\n",
    "_2 = Symbol(504,147,523,147,'2')\n",
    "node_2 = BSTNode(data=_2)\n",
    "_less = Symbol(523,161,544,161,'<')\n",
    "node_less = BSTNode(data=_less)\n",
    "_y = Symbol(544,161,563,161,'y')\n",
    "node_y = BSTNode(data=_y)\n",
    "_z = Symbol(563,161,580,161,'z')\n",
    "node_z = BSTNode(data=_z)"
   ]
  },
  {
   "cell_type": "code",
   "execution_count": 11,
   "metadata": {},
   "outputs": [
    {
     "data": {
      "text/plain": [
       "3"
      ]
     },
     "execution_count": 11,
     "metadata": {},
     "output_type": "execute_result"
    }
   ],
   "source": [
    "node_cbrc.determine_position(node_2)"
   ]
  },
  {
   "cell_type": "code",
   "execution_count": 25,
   "metadata": {},
   "outputs": [
    {
     "name": "stdout",
     "output_type": "stream",
     "text": [
      "\n",
      "_2 = Symbol(419,205,438,205,'2')\n",
      "node_2 = BSTNode(data=_2)\n",
      "_plus = Symbol(438,205,459,205,'+')\n",
      "node_plus = BSTNode(data=_plus)\n",
      "_3 = Symbol(459,205,478,205,'3')\n",
      "node_3 = BSTNode(data=_3)\n",
      "_div = Symbol(417,229,492,229.00000000000003,'-')\n",
      "node_div = BSTNode(data=_div)\n",
      "_5 = Symbol(448,260,467,260,'5')\n",
      "node_5 = BSTNode(data=_5)\n",
      "_mul = Symbol(510,220,529,220,'*')\n",
      "node_mul = BSTNode(data=_mul)\n",
      "_7 = Symbol(537,217,556,217,'7')\n",
      "node_7 = BSTNode(data=_7)\n"
     ]
    }
   ],
   "source": [
    "parse(\"\"\"\n",
    "_2 = Symbol(419,205,438,205,'2')\n",
    "node_2 = BSTNode(data=_2)\n",
    "tacto.js:2233 _+ = Symbol(438,205,459,205,'+')\n",
    "node_+ = BSTNode(data=_+)\n",
    "tacto.js:2233 _3 = Symbol(459,205,478,205,'3')\n",
    "node_3 = BSTNode(data=_3)\n",
    "tacto.js:2233 _— = Symbol(417,229,492,229.00000000000003,'—')\n",
    "node_— = BSTNode(data=_—)\n",
    "tacto.js:2233 _5 = Symbol(448,260,467,260,'5')\n",
    "node_5 = BSTNode(data=_5)\n",
    "tacto.js:2233 _* = Symbol(510,220,529,220,'*')\n",
    "node_* = BSTNode(data=_*)\n",
    "tacto.js:2233 _7 = Symbol(537,217,556,217,'7')\n",
    "node_7 = BSTNode(data=_7)\"\"\")\n"
   ]
  },
  {
   "cell_type": "code",
   "execution_count": 32,
   "metadata": {},
   "outputs": [
    {
     "data": {
      "text/plain": [
       "8"
      ]
     },
     "execution_count": 32,
     "metadata": {},
     "output_type": "execute_result"
    }
   ],
   "source": [
    "node_3.determine_position(node_5)"
   ]
  },
  {
   "cell_type": "code",
   "execution_count": null,
   "metadata": {},
   "outputs": [],
   "source": []
  }
 ],
 "metadata": {
  "kernelspec": {
   "display_name": "Python 3",
   "language": "python",
   "name": "python3"
  },
  "language_info": {
   "codemirror_mode": {
    "name": "ipython",
    "version": 3
   },
   "file_extension": ".py",
   "mimetype": "text/x-python",
   "name": "python",
   "nbconvert_exporter": "python",
   "pygments_lexer": "ipython3",
   "version": "3.7.2"
  }
 },
 "nbformat": 4,
 "nbformat_minor": 2
}
