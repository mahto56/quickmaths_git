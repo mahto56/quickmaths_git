{
 "cells": [
  {
   "cell_type": "code",
   "execution_count": 1,
   "metadata": {},
   "outputs": [],
   "source": [
    "from quickmaths.utils.parser import BSTNode"
   ]
  },
  {
   "cell_type": "code",
   "execution_count": 2,
   "metadata": {},
   "outputs": [],
   "source": [
    "from random import randint\n"
   ]
  },
  {
   "cell_type": "code",
   "execution_count": 3,
   "metadata": {},
   "outputs": [],
   "source": [
    "import re\n",
    "def parse(s):\n",
    "    exp = BSTNode()\n",
    "    replaced = re.sub(r'tacto.js:\\d{4}', r'', s)\n",
    "    replaced = re.sub(r' _', r'_', replaced)\n",
    "    replaced = replaced.replace('_(', '_brc')\n",
    "    replaced = replaced.replace('_*', '_mul')\n",
    "    replaced = replaced.replace('_)', '_cbrc')\n",
    "    replaced = replaced.replace('_+', '_plus')\n",
    "    replaced = replaced.replace('_-', '_minus')\n",
    "    replaced = replaced.replace('_—','_div')\n",
    "    replaced = replaced.replace('—','-')\n",
    "    replaced = replaced.replace('_<', '_less')\n",
    "    print(replaced)\n",
    "    exec(replaced,globals())\n",
    "    "
   ]
  },
  {
   "cell_type": "code",
   "execution_count": 4,
   "metadata": {},
   "outputs": [],
   "source": [
    "import re\n",
    "symbols = []\n",
    "def parse_and_solve(s):\n",
    "    exp = BSTNode()\n",
    "    replaced = re.sub(r'tacto.js:\\d{4}', r'', s)\n",
    "    replaced = re.sub(r' _', r'_', replaced)\n",
    "    replaced = replaced.replace('_(', '_brc')\n",
    "    replaced = replaced.replace('_*', '_mul')\n",
    "    replaced = replaced.replace('_)', '_cbrc')\n",
    "    replaced = replaced.replace('_+', '_plus')\n",
    "    replaced = replaced.replace('_-', '_minus')\n",
    "    replaced = replaced.replace('_—','_div')\n",
    "    replaced = replaced.replace('—','-')\n",
    "    replaced = replaced.replace('_<', '_less')\n",
    "    exec(replaced,globals())\n",
    "    nodes = replaced.split('\\n')\n",
    "    for line in nodes:\n",
    "        if 'node' in line:\n",
    "            node = line.split(' ')[0]\n",
    "            exec(f'exp.insert({node})')\n",
    "            exec(f'symbols.append({node})')\n",
    "    print(replaced)\n",
    "    print('calculated: ')\n",
    "    print('actual')\n",
    "    print(f'{str(exp)}')\n",
    "    print(f'{_res}')\n",
    "    assert _res==str(exp)\n",
    "    "
   ]
  },
  {
   "cell_type": "code",
   "execution_count": 5,
   "metadata": {},
   "outputs": [],
   "source": [
    "class Symbol:\n",
    "    def __init__(self,min_x,min_y,max_x,max_y,label):\n",
    "        self.label = label\n",
    "        self.min_x = min_x\n",
    "        self.min_y = min_y\n",
    "        self.max_x = max_x\n",
    "        self.max_y = max_y\n",
    "        self.width = max_x - min_x\n",
    "        self.height = max_y - min_y\n",
    "    def __str__(self):\n",
    "        return f'min_x : {self.min_x}\\nmin_y:{self.min_y}\\nmax_x:{self.max_x}\\nmax_y:{self.max_y}\\nheight:{self.height}\\nwidth:{self.width}'"
   ]
  },
  {
   "cell_type": "markdown",
   "metadata": {},
   "source": [
    "# a sample expression\n",
    "```\n",
    "    8  5\n",
    " -------  \n",
    "    9  3 \n",
    "            minx   maxy\n",
    "            |        |\n",
    "            V        V\n",
    "miny --->    ________  \n",
    "            |        |\n",
    "            |        |\n",
    "            |        |\n",
    "maxy --->   |________|\n",
    "\n",
    "\n",
    "Here - : a\n",
    "     8 : b\n",
    "     9 : c\n",
    "     5 : d\n",
    "     \n",
    "So a overlabs b & c\n",
    "```"
   ]
  },
  {
   "cell_type": "code",
   "execution_count": 6,
   "metadata": {},
   "outputs": [],
   "source": [
    "a = Symbol(20,30,42,34,'-')\n",
    "b = Symbol(23,20,30,28,'8')\n",
    "c =Symbol(23,38,30,45,'9')\n",
    "d =  Symbol(35,16,40,25,'5')\n",
    "\n",
    "node_a = BSTNode(data=a)\n",
    "node_b = BSTNode(data=b)\n",
    "node_c = BSTNode(data=c)\n",
    "node_d = BSTNode(data=d)"
   ]
  },
  {
   "cell_type": "code",
   "execution_count": 7,
   "metadata": {},
   "outputs": [
    {
     "data": {
      "text/plain": [
       "True"
      ]
     },
     "execution_count": 7,
     "metadata": {},
     "output_type": "execute_result"
    }
   ],
   "source": [
    "node_a.overlaps(node_d)"
   ]
  },
  {
   "cell_type": "code",
   "execution_count": 8,
   "metadata": {},
   "outputs": [
    {
     "data": {
      "text/plain": [
       "True"
      ]
     },
     "execution_count": 8,
     "metadata": {},
     "output_type": "execute_result"
    }
   ],
   "source": [
    "node_a.overlaps(node_c)"
   ]
  },
  {
   "cell_type": "code",
   "execution_count": 9,
   "metadata": {},
   "outputs": [
    {
     "data": {
      "text/plain": [
       "1"
      ]
     },
     "execution_count": 9,
     "metadata": {},
     "output_type": "execute_result"
    }
   ],
   "source": [
    "node_a.determine_position2(node_d)"
   ]
  },
  {
   "cell_type": "code",
   "execution_count": 10,
   "metadata": {},
   "outputs": [
    {
     "data": {
      "text/plain": [
       "3"
      ]
     },
     "execution_count": 10,
     "metadata": {},
     "output_type": "execute_result"
    }
   ],
   "source": [
    "node_c.determine_position2(node_b)"
   ]
  },
  {
   "cell_type": "code",
   "execution_count": 11,
   "metadata": {},
   "outputs": [
    {
     "name": "stdout",
     "output_type": "stream",
     "text": [
      "\n",
      "_brc = Symbol(313.10283687943263,191,325.89716312056737,331,'(')\n",
      "node_brc = BSTNode(data=_brc)\n",
      "_brc = Symbol(338,221,351,265,'(')\n",
      "node_brc = BSTNode(data=_brc)\n",
      "_div = Symbol(342,246.71264367816093,516,297.28735632183907,'-')\n",
      "node_div = BSTNode(data=_div)\n",
      "_7 = Symbol(357,227,376,271,'7')\n",
      "node_7 = BSTNode(data=_7)\n",
      "_5 = Symbol(362,277,381,321,'5')\n",
      "node_5 = BSTNode(data=_5)\n",
      "_2 = Symbol(376,213,395,257,'2')\n",
      "node_2 = BSTNode(data=_2)\n",
      "_3 = Symbol(387,277,406,321,'3')\n",
      "node_3 = BSTNode(data=_3)\n",
      "_cbrc = Symbol(395,227,408,271,')')\n",
      "node_cbrc = BSTNode(data=_cbrc)\n",
      "_5 = Symbol(404,296,423,340,'5')\n",
      "node_5 = BSTNode(data=_5)\n",
      "_mul = Symbol(432,227,451,271,'*')\n",
      "node_mul = BSTNode(data=_mul)\n",
      "_8 = Symbol(466,227,485,271,'8')\n",
      "node_8 = BSTNode(data=_8)\n",
      "_4 = Symbol(485,227,504,271,'4')\n",
      "node_4 = BSTNode(data=_4)\n",
      "_cbrc = Symbol(539.6,205,552.4,315,')')\n",
      "node_cbrc = BSTNode(data=_cbrc)\n",
      "_res = 'EXPRESSION([(]{SUBSC([5]) CONTAINS([(], [-]{ABOVE([7]{SUPER([2]) } , [)]) BELOW([5], [3]) } ) } , [*], [8], [4], [)]) '\n"
     ]
    }
   ],
   "source": [
    "parse(\"\"\"\n",
    "_( = Symbol(313.10283687943263,191,325.89716312056737,331,'(')\n",
    "node_( = BSTNode(data=_()\n",
    "tacto.js:2589 _( = Symbol(338,221,351,265,'(')\n",
    "node_( = BSTNode(data=_()\n",
    "tacto.js:2589 _— = Symbol(342,246.71264367816093,516,297.28735632183907,'—')\n",
    "node_— = BSTNode(data=_—)\n",
    "tacto.js:2589 _7 = Symbol(357,227,376,271,'7')\n",
    "node_7 = BSTNode(data=_7)\n",
    "tacto.js:2589 _5 = Symbol(362,277,381,321,'5')\n",
    "node_5 = BSTNode(data=_5)\n",
    "tacto.js:2589 _2 = Symbol(376,213,395,257,'2')\n",
    "node_2 = BSTNode(data=_2)\n",
    "tacto.js:2589 _3 = Symbol(387,277,406,321,'3')\n",
    "node_3 = BSTNode(data=_3)\n",
    "tacto.js:2589 _) = Symbol(395,227,408,271,')')\n",
    "node_) = BSTNode(data=_))\n",
    "tacto.js:2589 _5 = Symbol(404,296,423,340,'5')\n",
    "node_5 = BSTNode(data=_5)\n",
    "tacto.js:2589 _* = Symbol(432,227,451,271,'*')\n",
    "node_* = BSTNode(data=_*)\n",
    "tacto.js:2589 _8 = Symbol(466,227,485,271,'8')\n",
    "node_8 = BSTNode(data=_8)\n",
    "tacto.js:2589 _4 = Symbol(485,227,504,271,'4')\n",
    "node_4 = BSTNode(data=_4)\n",
    "tacto.js:2589 _) = Symbol(539.6,205,552.4,315,')')\n",
    "node_) = BSTNode(data=_))\n",
    "tacto.js:2591 _res = 'EXPRESSION([(]{SUBSC([5]) CONTAINS([(], [—]{ABOVE([7]{SUPER([2]) } , [)]) BELOW([5], [3]) } ) } , [*], [8], [4], [)]) '\"\"\")\n"
   ]
  },
  {
   "cell_type": "code",
   "execution_count": 12,
   "metadata": {},
   "outputs": [
    {
     "data": {
      "text/plain": [
       "[]"
      ]
     },
     "execution_count": 12,
     "metadata": {},
     "output_type": "execute_result"
    }
   ],
   "source": [
    "symbols"
   ]
  },
  {
   "cell_type": "code",
   "execution_count": 13,
   "metadata": {},
   "outputs": [
    {
     "ename": "NameError",
     "evalue": "name 'exp' is not defined",
     "output_type": "error",
     "traceback": [
      "\u001b[0;31m---------------------------------------------------------------------------\u001b[0m",
      "\u001b[0;31mNameError\u001b[0m                                 Traceback (most recent call last)",
      "\u001b[0;32m<ipython-input-13-982ef6802e6c>\u001b[0m in \u001b[0;36m<module>\u001b[0;34m()\u001b[0m\n\u001b[1;32m      2\u001b[0m \u001b[0;31m# print(exp)\u001b[0m\u001b[0;34m\u001b[0m\u001b[0;34m\u001b[0m\u001b[0;34m\u001b[0m\u001b[0m\n\u001b[1;32m      3\u001b[0m \u001b[0;31m# exp.insert(node_div)\u001b[0m\u001b[0;34m\u001b[0m\u001b[0;34m\u001b[0m\u001b[0;34m\u001b[0m\u001b[0m\n\u001b[0;32m----> 4\u001b[0;31m \u001b[0mexp\u001b[0m\u001b[0;34m.\u001b[0m\u001b[0minsert\u001b[0m\u001b[0;34m(\u001b[0m\u001b[0mnode_7\u001b[0m\u001b[0;34m)\u001b[0m\u001b[0;34m\u001b[0m\u001b[0;34m\u001b[0m\u001b[0m\n\u001b[0m\u001b[1;32m      5\u001b[0m \u001b[0mprint\u001b[0m\u001b[0;34m(\u001b[0m\u001b[0mexp\u001b[0m\u001b[0;34m)\u001b[0m\u001b[0;34m\u001b[0m\u001b[0;34m\u001b[0m\u001b[0m\n",
      "\u001b[0;31mNameError\u001b[0m: name 'exp' is not defined"
     ]
    }
   ],
   "source": [
    "# exp.insert(node_brc)\n",
    "# print(exp)\n",
    "# exp.insert(node_div)\n",
    "exp.insert(node_7)\n",
    "print(exp)"
   ]
  },
  {
   "cell_type": "code",
   "execution_count": null,
   "metadata": {},
   "outputs": [],
   "source": [
    "# exp = BSTNode()\n",
    "# exp.insert(node_brc)\n",
    "exp.insert(node_div)\n",
    "print(exp)"
   ]
  },
  {
   "cell_type": "code",
   "execution_count": null,
   "metadata": {},
   "outputs": [],
   "source": [
    "exp = BSTNode()\n",
    "exp.insert(node_3)\n",
    "th = exp.children[0]\n",
    "len(node_3.children)"
   ]
  },
  {
   "cell_type": "code",
   "execution_count": null,
   "metadata": {},
   "outputs": [],
   "source": [
    "exp.insert(node_brc)\n",
    "print(exp)"
   ]
  },
  {
   "cell_type": "code",
   "execution_count": null,
   "metadata": {},
   "outputs": [],
   "source": [
    "node_3.determine_position2(node_brc)\n",
    "print(exp)"
   ]
  },
  {
   "cell_type": "code",
   "execution_count": null,
   "metadata": {},
   "outputs": [],
   "source": [
    "exp.insert(node_x)\n",
    "print(exp)"
   ]
  },
  {
   "cell_type": "code",
   "execution_count": null,
   "metadata": {},
   "outputs": [],
   "source": [
    "exp.insert(node_plus)\n",
    "print(exp)"
   ]
  },
  {
   "cell_type": "code",
   "execution_count": null,
   "metadata": {},
   "outputs": [],
   "source": [
    "exp.insert(node_1)\n",
    "print(exp)"
   ]
  },
  {
   "cell_type": "code",
   "execution_count": null,
   "metadata": {},
   "outputs": [],
   "source": [
    "exp.insert(node_cbrc)\n",
    "print(exp)"
   ]
  },
  {
   "cell_type": "code",
   "execution_count": null,
   "metadata": {},
   "outputs": [],
   "source": [
    "exp.insert(node_2)\n",
    "print(exp)"
   ]
  },
  {
   "cell_type": "code",
   "execution_count": null,
   "metadata": {},
   "outputs": [],
   "source": [
    "node_1.determine_position2(node_2)"
   ]
  },
  {
   "cell_type": "code",
   "execution_count": null,
   "metadata": {},
   "outputs": [],
   "source": [
    "print(node_2.min_x,node_2.min_y,node_brc.min_x,node_brc.min_y)"
   ]
  },
  {
   "cell_type": "code",
   "execution_count": null,
   "metadata": {},
   "outputs": [],
   "source": [
    "exp.insert(node_y)\n",
    "exp.insert(node_z)\n",
    "exp.insert(node_less)\n",
    "print(exp)"
   ]
  },
  {
   "cell_type": "code",
   "execution_count": null,
   "metadata": {},
   "outputs": [],
   "source": [
    "import pygraphviz as pgv\n",
    "from IPython.display import Image\n",
    "import random\n",
    "\n",
    "def draw(A):\n",
    "    \n",
    "    return Image(A.draw(format='png', prog='dot'))\n",
    "\n",
    "A = pgv.AGraph(directed=True)\n",
    "\n",
    "A.add_node(1,label='exp')\n",
    "A.add_node(2,label='A')\n",
    "A.add_node(3,label='C')\n",
    "A.add_node(4,label='+')\n",
    "A.add_node(5,label='-')\n",
    "A.add_node(6,label='B')\n",
    "A.add_node(7,label='2')\n",
    "A.add_node(8,label='-')\n",
    "A.add_node(9,label='D')\n",
    "A.add_edge(1,2)\n",
    "A.add_edge(1,4)\n",
    "A.add_edge(1,5)\n",
    "A.add_edge(1,8)\n",
    "A.add_edge(1,9)\n",
    "A.add_node(10,label='SUPER')\n",
    "A.add_edge(2,10)\n",
    "A.add_edge(10,3)\n",
    "A.add_node(11,label='ABOVE')\n",
    "A.add_node(12,label='BELOW')\n",
    "\n",
    "A.add_edge(8,11)\n",
    "A.add_edge(8,12)\n",
    "A.add_edge(11,6)\n",
    "A.add_edge(12,7)\n",
    "# etc., etc.\n",
    "# pygraphviz renders graphs in neato by default, \n",
    "# so you need to specify dot as the layout engine\n",
    "draw(A)"
   ]
  },
  {
   "cell_type": "code",
   "execution_count": null,
   "metadata": {},
   "outputs": [],
   "source": []
  },
  {
   "cell_type": "code",
   "execution_count": null,
   "metadata": {},
   "outputs": [],
   "source": [
    "A.layout('dot')\n",
    "A.draw('expr.png')"
   ]
  },
  {
   "cell_type": "code",
   "execution_count": null,
   "metadata": {},
   "outputs": [],
   "source": [
    "exp = BSTNode(is_region=True)"
   ]
  },
  {
   "cell_type": "code",
   "execution_count": null,
   "metadata": {},
   "outputs": [],
   "source": [
    "exp.insert(node_3)"
   ]
  },
  {
   "cell_type": "code",
   "execution_count": null,
   "metadata": {},
   "outputs": [],
   "source": [
    "print(exp)"
   ]
  },
  {
   "cell_type": "code",
   "execution_count": null,
   "metadata": {},
   "outputs": [],
   "source": [
    "import sys\n",
    "sys.getrecursionlimit()"
   ]
  },
  {
   "cell_type": "code",
   "execution_count": null,
   "metadata": {},
   "outputs": [],
   "source": [
    "symbols = []\n",
    "with open('tacto.log') as f:\n",
    "    l = f.read().split('____')\n",
    "    for expr in l:\n",
    "        expr = parse_and_solve(expr)"
   ]
  },
  {
   "cell_type": "code",
   "execution_count": null,
   "metadata": {},
   "outputs": [],
   "source": [
    "symbols"
   ]
  },
  {
   "cell_type": "code",
   "execution_count": null,
   "metadata": {},
   "outputs": [],
   "source": [
    "import numpy as np\n",
    "import cv2\n",
    "im = np.zeros([400,600,3],np.uint8)\n",
    "font                   = cv2.FONT_HERSHEY_SIMPLEX\n",
    "bottomLeftCornerOfText = (10,500)\n",
    "fontScale              = 1\n",
    "fontColor              = (255,255,255)\n",
    "lineType               = 2\n",
    "\n",
    "for sym in symbols:\n",
    "    cv2.rectangle(im, (int(sym.min_x), int(sym.min_y)), (int(sym.max_x),int(sym.max_y)), (255,255,255), 1)\n",
    "    cv2.putText(im,sym.label,(int(sym.min_x), int(sym.max_y)), font, fontScale,fontColor,lineType)\n",
    "cv2.imshow('',im)\n",
    "cv2.waitKey(0)\n",
    "cv2.destroyAllWindows()"
   ]
  },
  {
   "cell_type": "code",
   "execution_count": null,
   "metadata": {},
   "outputs": [],
   "source": [
    "0"
   ]
  },
  {
   "cell_type": "code",
   "execution_count": null,
   "metadata": {},
   "outputs": [],
   "source": []
  }
 ],
 "metadata": {
  "kernelspec": {
   "display_name": "Python 3",
   "language": "python",
   "name": "python3"
  },
  "language_info": {
   "codemirror_mode": {
    "name": "ipython",
    "version": 3
   },
   "file_extension": ".py",
   "mimetype": "text/x-python",
   "name": "python",
   "nbconvert_exporter": "python",
   "pygments_lexer": "ipython3",
   "version": "3.7.2"
  }
 },
 "nbformat": 4,
 "nbformat_minor": 2
}
