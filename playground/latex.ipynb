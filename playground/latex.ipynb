{
 "cells": [
  {
   "cell_type": "code",
   "execution_count": 42,
   "metadata": {},
   "outputs": [],
   "source": [
    "from sympy import init_session"
   ]
  },
  {
   "cell_type": "code",
   "execution_count": 2,
   "metadata": {},
   "outputs": [],
   "source": [
    "from sympy.parsing.latex import *"
   ]
  },
  {
   "cell_type": "code",
   "execution_count": 62,
   "metadata": {},
   "outputs": [
    {
     "data": {
      "image/png": "[encoded data removed]",
      "text/latex": [
       "$$\\sum_{n=1}^{10} n^{2}$$"
      ],
      "text/plain": [
       "  10    \n",
       " ___    \n",
       " ╲      \n",
       "  ╲    2\n",
       "  ╱   n \n",
       " ╱      \n",
       " ‾‾‾    \n",
       "n = 1   "
      ]
     },
     "execution_count": 62,
     "metadata": {},
     "output_type": "execute_result"
    }
   ],
   "source": [
    "parse_latex(\"\"\"\\\\sum_{n=1}^{10} n^{2}\"\"\")"
   ]
  },
  {
   "cell_type": "code",
   "execution_count": 79,
   "metadata": {},
   "outputs": [],
   "source": [
    "s = parse_latex(\"\"\"\n",
    "\\\\frac {\n",
    "        85\n",
    "    } {\n",
    "        9\n",
    "    }\n",
    "\n",
    "\"\"\")"
   ]
  },
  {
   "cell_type": "code",
   "execution_count": 80,
   "metadata": {},
   "outputs": [
    {
     "data": {
      "image/png": "[encoded data removed]",
      "text/latex": [
       "$$\\frac{85}{9}$$"
      ],
      "text/plain": [
       "85\n",
       "──\n",
       "9 "
      ]
     },
     "execution_count": 80,
     "metadata": {},
     "output_type": "execute_result"
    }
   ],
   "source": [
    "s"
   ]
  },
  {
   "cell_type": "code",
   "execution_count": 96,
   "metadata": {},
   "outputs": [
    {
     "data": {
      "image/png": "[encoded data removed]",
      "text/latex": [
       "$$\\sum_{i=0}^{100} \\left(3 i + 2 x\\right)$$"
      ],
      "text/plain": [
       " 100             \n",
       " ___             \n",
       " ╲               \n",
       "  ╲   (3⋅i + 2⋅x)\n",
       "  ╱              \n",
       " ╱               \n",
       " ‾‾‾             \n",
       "i = 0            "
      ]
     },
     "execution_count": 96,
     "metadata": {},
     "output_type": "execute_result"
    }
   ],
   "source": [
    "parse_latex(\"\"\"\n",
    "\\sum\n",
    "        ^ {\n",
    "            100\n",
    "        }\n",
    "        _ {\n",
    "            i\n",
    "            =\n",
    "            0\n",
    "        }\n",
    "    (\n",
    "    2\n",
    "    x\n",
    "    +\n",
    "    3\n",
    "    i\n",
    "    )\n",
    "\n",
    "\n",
    "\"\"\")"
   ]
  },
  {
   "cell_type": "code",
   "execution_count": null,
   "metadata": {},
   "outputs": [],
   "source": []
  }
 ],
 "metadata": {
  "kernelspec": {
   "display_name": "Python 3",
   "language": "python",
   "name": "python3"
  },
  "language_info": {
   "codemirror_mode": {
    "name": "ipython",
    "version": 3
   },
   "file_extension": ".py",
   "mimetype": "text/x-python",
   "name": "python",
   "nbconvert_exporter": "python",
   "pygments_lexer": "ipython3",
   "version": "3.7.2"
  }
 },
 "nbformat": 4,
 "nbformat_minor": 2
}
