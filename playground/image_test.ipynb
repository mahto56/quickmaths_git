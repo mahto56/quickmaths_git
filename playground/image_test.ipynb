{
 "cells": [
  {
   "cell_type": "code",
   "execution_count": 3,
   "metadata": {},
   "outputs": [
    {
     "ename": "NameError",
     "evalue": "name 'thresify' is not defined",
     "output_type": "error",
     "traceback": [
      "\u001b[0;31m---------------------------------------------------------------------------\u001b[0m",
      "\u001b[0;31mNameError\u001b[0m                                 Traceback (most recent call last)",
      "\u001b[0;32m<ipython-input-3-d830d2f7156d>\u001b[0m in \u001b[0;36m<module>\u001b[0;34m()\u001b[0m\n\u001b[1;32m     10\u001b[0m \u001b[0mim\u001b[0m \u001b[0;34m=\u001b[0m \u001b[0mcv2\u001b[0m\u001b[0;34m.\u001b[0m\u001b[0mimread\u001b[0m\u001b[0;34m(\u001b[0m\u001b[0;34m'00.jpg'\u001b[0m\u001b[0;34m)\u001b[0m\u001b[0;34m\u001b[0m\u001b[0;34m\u001b[0m\u001b[0m\n\u001b[1;32m     11\u001b[0m \u001b[0mgray\u001b[0m \u001b[0;34m=\u001b[0m \u001b[0mcv2\u001b[0m\u001b[0;34m.\u001b[0m\u001b[0mcvtColor\u001b[0m\u001b[0;34m(\u001b[0m\u001b[0mim\u001b[0m\u001b[0;34m,\u001b[0m \u001b[0mcv2\u001b[0m\u001b[0;34m.\u001b[0m\u001b[0mCOLOR_BGR2GRAY\u001b[0m\u001b[0;34m)\u001b[0m\u001b[0;34m\u001b[0m\u001b[0;34m\u001b[0m\u001b[0m\n\u001b[0;32m---> 12\u001b[0;31m \u001b[0mgray\u001b[0m \u001b[0;34m=\u001b[0m \u001b[0mthresify\u001b[0m\u001b[0;34m(\u001b[0m\u001b[0mgray\u001b[0m\u001b[0;34m,\u001b[0m\u001b[0;36m2\u001b[0m\u001b[0;34m,\u001b[0m\u001b[0;36m2\u001b[0m\u001b[0;34m)\u001b[0m\u001b[0;34m\u001b[0m\u001b[0;34m\u001b[0m\u001b[0m\n\u001b[0m\u001b[1;32m     13\u001b[0m _,cnts, _ = cv2.findContours(\n\u001b[1;32m     14\u001b[0m         gray.copy(), cv2.RETR_EXTERNAL, cv2.CHAIN_APPROX_SIMPLE)\n",
      "\u001b[0;31mNameError\u001b[0m: name 'thresify' is not defined"
     ]
    }
   ],
   "source": [
    "%matplotlib inline\n",
    "from sympy import init_session\n",
    "from sympy import init_printing\n",
    "from sympy import *\n",
    "init_printing() \n",
    "import cv2\n",
    "import imutils\n",
    "import numpy as np\n",
    "import matplotlib.pyplot as plt\n",
    "im = cv2.imread('00.jpg')\n",
    "gray = cv2.cvtColor(im, cv2.COLOR_BGR2GRAY)\n",
    "gray = thresify(gray,2,2)\n",
    "_,cnts, _ = cv2.findContours(\n",
    "        gray.copy(), cv2.RETR_EXTERNAL, cv2.CHAIN_APPROX_SIMPLE)\n",
    "idx =0 \n",
    "for cnt in contours:\n",
    "    idx += 1\n",
    "    x,y,w,h = cv2.boundingRect(cnt)\n",
    "#     cv2.imwrite(str(idx) + '.jpg', roi)\n",
    "    cv2.rectangle(gray,(x,y),(x+w,y+h),(200,0,0),5)\n",
    "    plt.imshow(gray)\n",
    "    plt.show()\n",
    "    print(f'-     <{x,y},{x+w,y+h}>')\n",
    "    \n",
    "#cv2.destroyAllWindows()"
   ]
  },
  {
   "cell_type": "code",
   "execution_count": 4,
   "metadata": {},
   "outputs": [],
   "source": [
    "def thresify(gray, dk, ek):\n",
    "    kernel = cv2.getStructuringElement(cv2.MORPH_RECT, (21, 21))\n",
    "    blackhat = cv2.morphologyEx(gray, cv2.MORPH_BLACKHAT, kernel)\n",
    "\n",
    "    _, thresh = cv2.threshold(\n",
    "        blackhat, 0, 255, cv2.THRESH_BINARY | cv2.THRESH_OTSU)\n",
    "    thresh = cv2.GaussianBlur(thresh, (1, 1), cv2.BORDER_DEFAULT)\n",
    "\n",
    "    thresh = cv2.dilate(thresh, np.ones((dk, dk)))\n",
    "\n",
    "    thresh = cv2.erode(thresh, np.ones((ek, ek)))\n",
    "\n",
    "    return thresh\n"
   ]
  },
  {
   "cell_type": "code",
   "execution_count": 10,
   "metadata": {},
   "outputs": [],
   "source": [
    "from sympy.parsing.latex import *\n",
    "def getRes(im):\n",
    "    print('Parsing image...')\n",
    "    print('Result is: ')\n",
    "    s =    parse_latex(\"\"\"\n",
    "    \\sum\n",
    "    \\limits\n",
    "            ^ {\n",
    "                100\n",
    "            }\n",
    "            _ {\n",
    "                i\n",
    "                =\n",
    "                0\n",
    "            }\n",
    "        (\n",
    "        2\n",
    "        x\n",
    "        +\n",
    "        3\n",
    "        i\n",
    "        )\n",
    "\n",
    "\n",
    "    \"\"\".replace('\\\\limits',''))\n",
    "    return s"
   ]
  },
  {
   "cell_type": "code",
   "execution_count": 11,
   "metadata": {},
   "outputs": [
    {
     "data": {
      "image/png": "[encoded data removed]",
      "text/plain": [
       "<Figure size 432x288 with 1 Axes>"
      ]
     },
     "metadata": {
      "needs_background": "light"
     },
     "output_type": "display_data"
    },
    {
     "name": "stdout",
     "output_type": "stream",
     "text": [
      "Parsing image...\n",
      "Result is: \n"
     ]
    },
    {
     "data": {
      "image/png": "[encoded data removed]",
      "text/latex": [
       "$$\\sum_{i=0}^{100} \\left(3 i + 2 x\\right)$$"
      ],
      "text/plain": [
       " 100             \n",
       " ___             \n",
       " ╲               \n",
       "  ╲   (3⋅i + 2⋅x)\n",
       "  ╱              \n",
       " ╱               \n",
       " ‾‾‾             \n",
       "i = 0            "
      ]
     },
     "execution_count": 11,
     "metadata": {},
     "output_type": "execute_result"
    }
   ],
   "source": [
    "plt.imshow(thresify(cv2.cvtColor(im, cv2.COLOR_BGR2GRAY),2,2),cmap='gray')\n",
    "plt.show()\n",
    "s = getRes(im)\n",
    "s"
   ]
  },
  {
   "cell_type": "code",
   "execution_count": 14,
   "metadata": {},
   "outputs": [
    {
     "data": {
      "text/plain": [
       "'Sum(3*i + 2*x, (i, 0, 100))'"
      ]
     },
     "execution_count": 14,
     "metadata": {},
     "output_type": "execute_result"
    }
   ],
   "source": [
    "str(s.evalf())"
   ]
  },
  {
   "cell_type": "code",
   "execution_count": 6,
   "metadata": {},
   "outputs": [],
   "source": [
    "s = sympify('((x^2+y^2-1)^3)-x^2*y^3')"
   ]
  },
  {
   "cell_type": "code",
   "execution_count": 7,
   "metadata": {},
   "outputs": [
    {
     "data": {
      "image/png": "[encoded data removed]",
      "text/latex": [
       "$$- x^{2} y^{3} + \\left(x^{2} + y^{2} - 1\\right)^{3}$$"
      ],
      "text/plain": [
       "                       3\n",
       "   2  3   ⎛ 2    2    ⎞ \n",
       "- x ⋅y  + ⎝x  + y  - 1⎠ "
      ]
     },
     "execution_count": 7,
     "metadata": {},
     "output_type": "execute_result"
    }
   ],
   "source": [
    "s"
   ]
  },
  {
   "cell_type": "code",
   "execution_count": 8,
   "metadata": {},
   "outputs": [
    {
     "data": {
      "image/png": "[encoded data removed]",
      "text/latex": [
       "$$- x^{2} y^{3} + \\left(x^{2} + y^{2} - 1\\right)^{3}$$"
      ],
      "text/plain": [
       "                       3\n",
       "   2  3   ⎛ 2    2    ⎞ \n",
       "- x ⋅y  + ⎝x  + y  - 1⎠ "
      ]
     },
     "execution_count": 8,
     "metadata": {},
     "output_type": "execute_result"
    }
   ],
   "source": [
    "s"
   ]
  },
  {
   "cell_type": "code",
   "execution_count": 9,
   "metadata": {},
   "outputs": [
    {
     "ename": "SyntaxError",
     "evalue": "EOL while scanning string literal (<ipython-input-9-5529772d5c33>, line 4)",
     "output_type": "error",
     "traceback": [
      "\u001b[0;36m  File \u001b[0;32m\"<ipython-input-9-5529772d5c33>\"\u001b[0;36m, line \u001b[0;32m4\u001b[0m\n\u001b[0;31m    ezplot('x+2+\u001b[0m\n\u001b[0m                ^\u001b[0m\n\u001b[0;31mSyntaxError\u001b[0m\u001b[0;31m:\u001b[0m EOL while scanning string literal\n"
     ]
    }
   ],
   "source": [
    "from sympy.parsing.sympy_parser import parse_expr\n",
    "from sympy import plot_implicit\n",
    "ezplot = lambda exper: plot_implicit(sympify(exper))\n",
    "ezplot('x+2+\n",
    "       +y')0"
   ]
  },
  {
   "cell_type": "code",
   "execution_count": 10,
   "metadata": {},
   "outputs": [
    {
     "data": {
      "text/plain": [
       "exp"
      ]
     },
     "execution_count": 10,
     "metadata": {},
     "output_type": "execute_result"
    }
   ],
   "source": [
    "exp"
   ]
  },
  {
   "cell_type": "code",
   "execution_count": 11,
   "metadata": {},
   "outputs": [
    {
     "name": "stdout",
     "output_type": "stream",
     "text": [
      "/bin/sh: 1: Syntax error: redirection unexpected\n"
     ]
    }
   ],
   "source": [
    "!./GetTeX.x  /dev/stdin <<<'ss221'|awk '/^\\$/ {flag=!flag; next} flag {print}'"
   ]
  },
  {
   "cell_type": "code",
   "execution_count": 12,
   "metadata": {},
   "outputs": [
    {
     "ename": "NameError",
     "evalue": "name 'subprocess' is not defined",
     "output_type": "error",
     "traceback": [
      "\u001b[0;31m---------------------------------------------------------------------------\u001b[0m",
      "\u001b[0;31mNameError\u001b[0m                                 Traceback (most recent call last)",
      "\u001b[0;32m<ipython-input-12-a2326365a224>\u001b[0m in \u001b[0;36m<module>\u001b[0;34m()\u001b[0m\n\u001b[1;32m      1\u001b[0m \u001b[0;32mfrom\u001b[0m \u001b[0msubprocess\u001b[0m \u001b[0;32mimport\u001b[0m \u001b[0mPopen\u001b[0m\u001b[0;34m,\u001b[0m\u001b[0mPIPE\u001b[0m\u001b[0;34m\u001b[0m\u001b[0;34m\u001b[0m\u001b[0m\n\u001b[0;32m----> 2\u001b[0;31m \u001b[0mout\u001b[0m \u001b[0;34m=\u001b[0m \u001b[0msubprocess\u001b[0m\u001b[0;34m.\u001b[0m\u001b[0mcall\u001b[0m\u001b[0;34m(\u001b[0m\u001b[0;34m[\u001b[0m\u001b[0;34m'/home/kayshu/documents/GetTeX.x'\u001b[0m\u001b[0;34m,\u001b[0m\u001b[0;34m'eg_symbols.dat'\u001b[0m\u001b[0;34m]\u001b[0m\u001b[0;34m)\u001b[0m\u001b[0;34m\u001b[0m\u001b[0;34m\u001b[0m\u001b[0m\n\u001b[0m",
      "\u001b[0;31mNameError\u001b[0m: name 'subprocess' is not defined"
     ]
    }
   ],
   "source": [
    "from subprocess import Popen,PIPE\n",
    "out = subprocess.call(['/home/kayshu/documents/GetTeX.x','eg_symbols.dat'])"
   ]
  },
  {
   "cell_type": "code",
   "execution_count": 13,
   "metadata": {},
   "outputs": [],
   "source": [
    "p = Popen(['/home/kayshu/documents/GetTeX.x','eg_symbols.dat'],stdout=PIPE)"
   ]
  },
  {
   "cell_type": "code",
   "execution_count": 14,
   "metadata": {},
   "outputs": [],
   "source": [
    "import shlex\n",
    "from tqdm import tqdm\n",
    "from subprocess import Popen, PIPE\n",
    "\n",
    "def get_exitcode_stdout_stderr(cmd,input_):\n",
    "    \"\"\"\n",
    "    Execute the external command and get its exitcode, stdout and stderr.\n",
    "    \"\"\"\n",
    "    args = shlex.split(cmd)\n",
    "\n",
    "    proc = Popen(args,stdin=PIPE, stdout=PIPE, stderr=PIPE,universal_newlines=True)\n",
    "    out, err = proc.communicate(input=input_)\n",
    "    exitcode = proc.returncode\n",
    "    #\n",
    "    return exitcode, out, err"
   ]
  },
  {
   "cell_type": "code",
   "execution_count": 85,
   "metadata": {},
   "outputs": [
    {
     "name": "stderr",
     "output_type": "stream",
     "text": [
      "100%|██████████| 1/1 [00:00<00:00, 26.80it/s]\n"
     ]
    }
   ],
   "source": [
    "for i in tqdm(range(1)):\n",
    "    cmd = \"/home/kayshu/documents/bin/GetTeX.x /dev/stdin \"  # arbitrary external command, e.g. \"python mytest.py\"\n",
    "    exitcode, out, err = get_exitcode_stdout_stderr(cmd,\"\"\"\n",
    "Number of Symbols: 13\n",
    "\\sum     <(90, 207),(144, 251)>\n",
    "2     <(172, 213),(217, 248)>\n",
    "x     <(225, 219),(282, 248)>\n",
    "-     <(101, 281),(112, 285)>\n",
    "0     <(127, 274),(141, 287)>\n",
    "i     <(86, 275),(98, 296)>\n",
    "-     <(99, 273),(114, 278)>\n",
    "i     <(456, 215),(481, 235)>\n",
    "+     <(309, 214),(358, 242)>\n",
    "3     <(393, 202),(437, 245)>\n",
    "0     <(101, 167),(114, 180)>\n",
    "0     <(122, 164),(138, 176)>\n",
    "1     <(84, 162),(91, 191)>\n",
    "(     <(150,207),(171,255)>\n",
    ")     <(485,208),(510,260)>\n",
    "\n",
    "\"\"\")\n",
    "    out = re.findall( '\\$(.*?)\\$', out, re.DOTALL)[0]\n",
    "    out = out.replace('\\n','')\n",
    "    out = out.replace(' ','')\n",
    "    out = out.replace('\\limits','')"
   ]
  },
  {
   "cell_type": "code",
   "execution_count": 94,
   "metadata": {},
   "outputs": [
    {
     "data": {
      "image/png": "[encoded data removed]",
      "text/latex": [
       "$$\\sum_{i=0}^{100} \\left(3 i + 2 x\\right)$$"
      ],
      "text/plain": [
       " 100             \n",
       " ___             \n",
       " ╲               \n",
       "  ╲   (3⋅i + 2⋅x)\n",
       "  ╱              \n",
       " ╱               \n",
       " ‾‾‾             \n",
       "i = 0            "
      ]
     },
     "execution_count": 94,
     "metadata": {},
     "output_type": "execute_result"
    }
   ],
   "source": [
    "suma =parse_latex(out)\n",
    "suma"
   ]
  },
  {
   "cell_type": "code",
   "execution_count": 96,
   "metadata": {},
   "outputs": [
    {
     "data": {
      "image/png": "[encoded data removed]",
      "text/latex": [
       "$$2 x \\sum_{i=0}^{100} 1 + \\sum_{i=0}^{100} 3 i$$"
      ],
      "text/plain": [
       "     100       100     \n",
       "     ___       ___     \n",
       "     ╲         ╲       \n",
       "      ╲   1     ╲   3⋅i\n",
       "2⋅x⋅  ╱     +   ╱      \n",
       "     ╱         ╱       \n",
       "     ‾‾‾       ‾‾‾     \n",
       "    i = 0     i = 0    "
      ]
     },
     "execution_count": 96,
     "metadata": {},
     "output_type": "execute_result"
    }
   ],
   "source": [
    "simplify_logic(suma)"
   ]
  },
  {
   "cell_type": "code",
   "execution_count": 97,
   "metadata": {},
   "outputs": [
    {
     "data": {
      "image/png": "[encoded data removed]",
      "text/latex": [
       "$$202 x + 15150$$"
      ],
      "text/plain": [
       "202⋅x + 15150"
      ]
     },
     "execution_count": 97,
     "metadata": {},
     "output_type": "execute_result"
    }
   ],
   "source": [
    "suma.doit()"
   ]
  },
  {
   "cell_type": "code",
   "execution_count": 33,
   "metadata": {},
   "outputs": [],
   "source": [
    "pat = pat.replace('\\n','')"
   ]
  },
  {
   "cell_type": "code",
   "execution_count": 34,
   "metadata": {},
   "outputs": [],
   "source": [
    "pat = pat.replace(' ','')"
   ]
  },
  {
   "cell_type": "code",
   "execution_count": 35,
   "metadata": {},
   "outputs": [
    {
     "data": {
      "text/plain": [
       "'\\\\sum\\\\limits^{n}_{a(n)=k=1^{(-1)}}n=k_{=!}'"
      ]
     },
     "execution_count": 35,
     "metadata": {},
     "output_type": "execute_result"
    }
   ],
   "source": [
    "pat"
   ]
  },
  {
   "cell_type": "code",
   "execution_count": 36,
   "metadata": {},
   "outputs": [
    {
     "name": "stdout",
     "output_type": "stream",
     "text": [
      "\\sum\\limits^{n}_{a(n)=k=1^{(-1)}}n=k_{=!}\n"
     ]
    }
   ],
   "source": [
    "print(pat)"
   ]
  },
  {
   "cell_type": "code",
   "execution_count": null,
   "metadata": {},
   "outputs": [],
   "source": []
  }
 ],
 "metadata": {
  "kernelspec": {
   "display_name": "Python 3",
   "language": "python",
   "name": "python3"
  },
  "language_info": {
   "codemirror_mode": {
    "name": "ipython",
    "version": 3
   },
   "file_extension": ".py",
   "mimetype": "text/x-python",
   "name": "python",
   "nbconvert_exporter": "python",
   "pygments_lexer": "ipython3",
   "version": "3.7.2"
  }
 },
 "nbformat": 4,
 "nbformat_minor": 2
}
