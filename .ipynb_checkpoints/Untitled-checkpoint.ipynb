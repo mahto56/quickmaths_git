{
 "cells": [
  {
   "cell_type": "code",
   "execution_count": 1,
   "metadata": {},
   "outputs": [],
   "source": [
    "from quickmaths.utils.parser_v2 import *"
   ]
  },
  {
   "cell_type": "code",
   "execution_count": 2,
   "metadata": {},
   "outputs": [],
   "source": [
    "class Symbol:\n",
    "    def __init__(self,min_x,min_y,max_x,max_y,label):\n",
    "        self.label = label\n",
    "        self.min_x = min_x\n",
    "        self.min_y = min_y\n",
    "        self.max_x = max_x\n",
    "        self.max_y = max_y\n",
    "        self.width = max_x - min_x\n",
    "        self.height = max_y - min_y\n",
    "    def __str__(self):\n",
    "        return f'min_x : {self.min_x}\\nmin_y:{self.min_y}\\nmax_x:{self.max_x}\\nmax_y:{self.max_y}\\nheight:{self.height}\\nwidth:{self.width}'"
   ]
  },
  {
   "cell_type": "code",
   "execution_count": 3,
   "metadata": {},
   "outputs": [
    {
     "name": "stdout",
     "output_type": "stream",
     "text": [
      "Creating : -\n",
      "Creating : 8\n",
      "Creating : 9\n",
      "Creating : 5\n"
     ]
    }
   ],
   "source": [
    "a = Symbol(20,30,42,34,'-')\n",
    "b = Symbol(23,20,30,28,'8')\n",
    "c =Symbol(23,38,30,45,'9')\n",
    "d =  Symbol(35,16,40,25,'5')\n",
    "\n",
    "node_a = BSTNode(data=a)\n",
    "node_b = BSTNode(data=b)\n",
    "node_c = BSTNode(data=c)\n",
    "node_d = BSTNode(data=d)"
   ]
  },
  {
   "cell_type": "markdown",
   "metadata": {},
   "source": [
    "# a sample expression\n",
    "```\n",
    "    8  5\n",
    " -------  \n",
    "    9  3 \n",
    "            minx   maxy\n",
    "            |        |\n",
    "            V        V\n",
    "miny --->    ________  \n",
    "            |        |\n",
    "            |        |\n",
    "            |        |\n",
    "maxy --->   |________|\n",
    "\n",
    "\n",
    "Here - : a\n",
    "     8 : b\n",
    "     9 : c\n",
    "     5 : d\n",
    "     \n",
    "So a overlabs b & c\n",
    "```"
   ]
  },
  {
   "cell_type": "code",
   "execution_count": 4,
   "metadata": {},
   "outputs": [],
   "source": [
    "nodelist = [node_a,node_b,node_c,node_d]"
   ]
  },
  {
   "cell_type": "code",
   "execution_count": null,
   "metadata": {},
   "outputs": [],
   "source": []
  },
  {
   "cell_type": "code",
   "execution_count": 5,
   "metadata": {},
   "outputs": [
    {
     "name": "stdout",
     "output_type": "stream",
     "text": [
      "Creating : EXPRESSION\n",
      "Creating : -\n",
      "Creating : 8\n",
      "Creating : 9\n",
      "Creating : 5\n",
      "EXPRESSION([-], [8], [9], [5]) \n",
      "START: [-],nodelist: [-, 8, 9, 5]\n",
      "EXPRESSION([-], [8], [9], [5]) \n",
      "current_symbol: [-],list2 is: [-, 8, 9, 5]\n",
      "Creating : ABOVE\n",
      "Creating : BELOW\n",
      "current_symbol: [-]{ABOVE([8], [5]) BELOW([9]) } ,remaining_symbols is: []\n",
      "new snodelist [-]\n",
      "Called CollectRegions with [-]\n",
      "Called CollectRegions with []\n",
      "updated_baseline is: [-]\n",
      "{'ABOVE': ABOVE, 'BELOW': BELOW}\n",
      "region_label: ABOVE\n",
      "START: [8],nodelist: [8, 5]\n",
      "EXPRESSION([-]{ABOVE([8], [5]) BELOW([9]) } ) \n",
      "current_symbol: [8],list2 is: [8, 5]\n",
      "current_symbol: [8],remaining_symbols is: [5]\n",
      "new snodelist [8]\n",
      "EXPRESSION([-]{ABOVE([8], [5]) BELOW([9]) } ) \n",
      "current_symbol: [5],list2 is: [5]\n",
      "current_symbol: [5],remaining_symbols is: []\n",
      "new snodelist [8, 5]\n",
      "Called CollectRegions with [8, 5]\n",
      "Called CollectRegions with [5]\n",
      "Called CollectRegions with []\n",
      "updated_baseline is: [8, 5]\n",
      "{}\n",
      "{}\n",
      "region_label: BELOW\n"
     ]
    }
   ],
   "source": [
    "rnode = BuildBST(nodelist)"
   ]
  },
  {
   "cell_type": "code",
   "execution_count": 6,
   "metadata": {},
   "outputs": [
    {
     "name": "stdout",
     "output_type": "stream",
     "text": [
      "EXPRESSION([-]{ABOVE([8], [5]) BELOW([9]) } ) \n"
     ]
    }
   ],
   "source": [
    "print(rnode)"
   ]
  },
  {
   "cell_type": "code",
   "execution_count": 7,
   "metadata": {},
   "outputs": [
    {
     "data": {
      "text/plain": [
       "False"
      ]
     },
     "execution_count": 7,
     "metadata": {},
     "output_type": "execute_result"
    }
   ],
   "source": [
    "node_b.is_adj(node_d)"
   ]
  },
  {
   "cell_type": "code",
   "execution_count": 8,
   "metadata": {},
   "outputs": [
    {
     "data": {
      "text/plain": [
       "(16, 25, 23, 28)"
      ]
     },
     "execution_count": 8,
     "metadata": {},
     "output_type": "execute_result"
    }
   ],
   "source": [
    "node_d.min_y,node_d.max_y,node_b.min_x,node_b.max_y"
   ]
  },
  {
   "cell_type": "code",
   "execution_count": 9,
   "metadata": {},
   "outputs": [],
   "source": [
    "symbols = nodelist"
   ]
  },
  {
   "cell_type": "code",
   "execution_count": 10,
   "metadata": {},
   "outputs": [],
   "source": [
    "import numpy as np\n",
    "import cv2\n",
    "im = np.zeros([50,50,3],np.uint8)\n",
    "font                   = cv2.FONT_HERSHEY_SIMPLEX\n",
    "bottomLeftCornerOfText = (10,500)\n",
    "fontScale              = 1\n",
    "fontColor              = (255,255,255)\n",
    "lineType               = 2\n",
    "\n",
    "for sym in symbols:\n",
    "    cv2.rectangle(im, (int(sym.min_x), int(sym.min_y)), (int(sym.max_x),int(sym.max_y)), (255,255,255), 1)\n",
    "#     cv2.putText(im,sym.label,(int(sym.min_x), int(sym.max_y)), font, fontScale,fontColor,lineType)\n",
    "cv2.imshow('',im)\n",
    "cv2.waitKey(0)\n",
    "cv2.destroyAllWindows()"
   ]
  },
  {
   "cell_type": "code",
   "execution_count": 11,
   "metadata": {},
   "outputs": [],
   "source": [
    "snode = node_b\n",
    "snodelist = [node_d,node_b]"
   ]
  },
  {
   "cell_type": "code",
   "execution_count": 12,
   "metadata": {},
   "outputs": [
    {
     "data": {
      "text/plain": [
       "False"
      ]
     },
     "execution_count": 12,
     "metadata": {},
     "output_type": "execute_result"
    }
   ],
   "source": [
    "node_d.centroid_y < snode.SUPER"
   ]
  },
  {
   "cell_type": "code",
   "execution_count": 13,
   "metadata": {},
   "outputs": [
    {
     "data": {
      "text/plain": [
       "False"
      ]
     },
     "execution_count": 13,
     "metadata": {},
     "output_type": "execute_result"
    }
   ],
   "source": [
    "node_d.centroid_y > snode.SUBSC"
   ]
  },
  {
   "cell_type": "code",
   "execution_count": 14,
   "metadata": {},
   "outputs": [
    {
     "data": {
      "text/plain": [
       "True"
      ]
     },
     "execution_count": 14,
     "metadata": {},
     "output_type": "execute_result"
    }
   ],
   "source": [
    "snode.SUBSC > node_d.centroid_y > snode.SUPER"
   ]
  },
  {
   "cell_type": "code",
   "execution_count": 15,
   "metadata": {},
   "outputs": [
    {
     "name": "stdout",
     "output_type": "stream",
     "text": [
      "Creating : (\n",
      "Creating : -\n",
      "Creating : 2\n",
      "Creating : 3\n",
      "Creating : )\n",
      "Creating : 6\n",
      "Creating : 9\n"
     ]
    }
   ],
   "source": [
    "brc = Symbol(360,54,522,504,'(')\n",
    "node_brc = BSTNode(brc)\n",
    "\n",
    "div = Symbol(360,306,774,342,'-')\n",
    "node_div = BSTNode(div)\n",
    "\n",
    "two1 = Symbol(504,180,648,288,'2')\n",
    "node_two1 = BSTNode(two1)\n",
    "\n",
    "three = Symbol(540,360,648,468,'3')\n",
    "node_three = BSTNode(three)\n",
    "\n",
    "cbrc = Symbol(738,36,828,504,')')\n",
    "node_cbrc = BSTNode(cbrc)\n",
    "\n",
    "six = Symbol(576,108,702,180,'6')\n",
    "node_six = BSTNode(six)\n",
    "\n",
    "nine = Symbol(846,54,936,144,'9')\n",
    "node_nine = BSTNode(nine)\n",
    "\n",
    "nlist = [node_brc,node_div,node_two1,node_three,node_cbrc,node_nine,node_six]\n",
    "# list2 = [node_div,node_two1,node_three,node_six]"
   ]
  },
  {
   "cell_type": "code",
   "execution_count": 16,
   "metadata": {},
   "outputs": [
    {
     "ename": "NameError",
     "evalue": "name 'list2' is not defined",
     "output_type": "error",
     "traceback": [
      "\u001b[0;31m---------------------------------------------------------------------------\u001b[0m",
      "\u001b[0;31mNameError\u001b[0m                                 Traceback (most recent call last)",
      "\u001b[0;32m<ipython-input-16-f65a2b2144e0>\u001b[0m in \u001b[0;36m<module>\u001b[0;34m()\u001b[0m\n\u001b[0;32m----> 1\u001b[0;31m \u001b[0mSortSymbolsByMinX\u001b[0m\u001b[0;34m(\u001b[0m\u001b[0mlist2\u001b[0m\u001b[0;34m)\u001b[0m\u001b[0;34m\u001b[0m\u001b[0;34m\u001b[0m\u001b[0m\n\u001b[0m",
      "\u001b[0;31mNameError\u001b[0m: name 'list2' is not defined"
     ]
    }
   ],
   "source": [
    "SortSymbolsByMinX(list2)"
   ]
  },
  {
   "cell_type": "code",
   "execution_count": 17,
   "metadata": {},
   "outputs": [
    {
     "name": "stdout",
     "output_type": "stream",
     "text": [
      "Creating : EXPRESSION\n",
      "Creating : (\n",
      "Creating : -\n",
      "Creating : 2\n",
      "Creating : 3\n",
      "Creating : 6\n",
      "Creating : )\n",
      "Creating : 9\n",
      "EXPRESSION([(], [-], [2], [3], [6], [)], [9]) \n",
      "START: [(],nodelist: [(, -, 2, 3, 6, ), 9]\n",
      "EXPRESSION([(], [-], [2], [3], [6], [)], [9]) \n",
      "current_symbol: [(],list2 is: [(, -, 2, 3, 6, ), 9]\n",
      "current_symbol: [(],remaining_symbols is: [-, 2, 3, 6, ), 9]\n",
      "new snodelist [(]\n",
      "removing -\n",
      "removing 2\n",
      "removing 3\n",
      "removing 6\n",
      "EXPRESSION([(], [-], [2], [3], [6], [)], [9]) \n",
      "current_symbol: [)],list2 is: [-, 2, 3, 6, ), 9]\n",
      "Creating : BLEFT\n",
      "current_symbol: [)]{BLEFT([3]) } ,remaining_symbols is: [-, 2, 6, 9]\n",
      "new snodelist [(, )]\n",
      "EXPRESSION([(], [-], [2], [3], [6], [)]{BLEFT([3]) } , [9]) \n",
      "current_symbol: [-],list2 is: [-, 2, 6, 9]\n",
      "Creating : ABOVE\n",
      "current_symbol: [-]{ABOVE([2], [6]) } ,remaining_symbols is: [9]\n",
      "new snodelist [(, ), -]\n",
      "EXPRESSION([(], [-]{ABOVE([2], [6]) } , [2], [3], [6], [)]{BLEFT([3]) } , [9]) \n",
      "current_symbol: [9],list2 is: [9]\n",
      "current_symbol: [9],remaining_symbols is: []\n",
      "new snodelist [(, ), -, 9]\n",
      "Called CollectRegions with [(, ), -, 9]\n",
      "line: 442 snodelist1: [), -, 9]\n",
      "superlist: []\n",
      "after super : (\n",
      "after tleft : -\n",
      "line: 446 snodelist1: [), -, 9]\n",
      "Called CollectRegions with [), None, 9]\n",
      "line: 442 snodelist1: [None, 9]\n",
      "superlist: []\n",
      "after super : )\n",
      "after tleft : 9\n",
      "line: 446 snodelist1: [None, 9]\n",
      "Called CollectRegions with [None, None]\n"
     ]
    },
    {
     "ename": "AttributeError",
     "evalue": "'NoneType' object has no attribute 'copy'",
     "output_type": "error",
     "traceback": [
      "\u001b[0;31m---------------------------------------------------------------------------\u001b[0m",
      "\u001b[0;31mAttributeError\u001b[0m                            Traceback (most recent call last)",
      "\u001b[0;32m<ipython-input-17-8172804dda02>\u001b[0m in \u001b[0;36m<module>\u001b[0;34m()\u001b[0m\n\u001b[0;32m----> 1\u001b[0;31m \u001b[0mroot\u001b[0m \u001b[0;34m=\u001b[0m \u001b[0mBuildBST\u001b[0m\u001b[0;34m(\u001b[0m\u001b[0mnlist\u001b[0m\u001b[0;34m)\u001b[0m\u001b[0;34m\u001b[0m\u001b[0;34m\u001b[0m\u001b[0m\n\u001b[0m",
      "\u001b[0;32m~/OpenCVProjects/Dell Laptop/quickmaths_git/quickmaths/utils/parser_v2.py\u001b[0m in \u001b[0;36mBuildBST\u001b[0;34m(snodelist)\u001b[0m\n\u001b[1;32m    528\u001b[0m     \u001b[0mprint\u001b[0m\u001b[0;34m(\u001b[0m\u001b[0mroot\u001b[0m\u001b[0;34m)\u001b[0m\u001b[0;34m\u001b[0m\u001b[0;34m\u001b[0m\u001b[0m\n\u001b[1;32m    529\u001b[0m \u001b[0;34m\u001b[0m\u001b[0m\n\u001b[0;32m--> 530\u001b[0;31m     \u001b[0;32mreturn\u001b[0m \u001b[0mExtractBaseline\u001b[0m\u001b[0;34m(\u001b[0m\u001b[0mroot\u001b[0m\u001b[0;34m)\u001b[0m\u001b[0;34m\u001b[0m\u001b[0;34m\u001b[0m\u001b[0m\n\u001b[0m",
      "\u001b[0;32m~/OpenCVProjects/Dell Laptop/quickmaths_git/quickmaths/utils/parser_v2.py\u001b[0m in \u001b[0;36mExtractBaseline\u001b[0;34m(rnode)\u001b[0m\n\u001b[1;32m    490\u001b[0m     \u001b[0mbaseline_symbols\u001b[0m \u001b[0;34m=\u001b[0m \u001b[0mHor\u001b[0m\u001b[0;34m(\u001b[0m\u001b[0ms_start\u001b[0m\u001b[0;34m,\u001b[0m \u001b[0msnode_list\u001b[0m\u001b[0;34m)\u001b[0m\u001b[0;34m\u001b[0m\u001b[0;34m\u001b[0m\u001b[0m\n\u001b[1;32m    491\u001b[0m     \u001b[0mupdated_baseline\u001b[0m \u001b[0;34m=\u001b[0m \u001b[0mbaseline_symbols\u001b[0m\u001b[0;34m\u001b[0m\u001b[0;34m\u001b[0m\u001b[0m\n\u001b[0;32m--> 492\u001b[0;31m     \u001b[0mupdated_baseline\u001b[0m \u001b[0;34m=\u001b[0m \u001b[0mCollectRegions\u001b[0m\u001b[0;34m(\u001b[0m\u001b[0mbaseline_symbols\u001b[0m\u001b[0;34m)\u001b[0m\u001b[0;34m\u001b[0m\u001b[0;34m\u001b[0m\u001b[0m\n\u001b[0m\u001b[1;32m    493\u001b[0m \u001b[0;34m\u001b[0m\u001b[0m\n\u001b[1;32m    494\u001b[0m     \u001b[0mrnode\u001b[0m\u001b[0;34m.\u001b[0m\u001b[0msymbols\u001b[0m \u001b[0;34m=\u001b[0m \u001b[0mupdated_baseline\u001b[0m\u001b[0;34m\u001b[0m\u001b[0;34m\u001b[0m\u001b[0m\n",
      "\u001b[0;32m~/OpenCVProjects/Dell Laptop/quickmaths_git/quickmaths/utils/parser_v2.py\u001b[0m in \u001b[0;36mCollectRegions\u001b[0;34m(snodelist)\u001b[0m\n\u001b[1;32m    469\u001b[0m         \u001b[0mupperlist\u001b[0m \u001b[0;34m=\u001b[0m \u001b[0;34m[\u001b[0m\u001b[0mr\u001b[0m\u001b[0;34m.\u001b[0m\u001b[0mTLEFT\u001b[0m\u001b[0;34m,\u001b[0m \u001b[0mr\u001b[0m\u001b[0;34m.\u001b[0m\u001b[0mABOVE\u001b[0m\u001b[0;34m,\u001b[0m \u001b[0mr\u001b[0m\u001b[0;34m.\u001b[0m\u001b[0mSUPER\u001b[0m\u001b[0;34m]\u001b[0m\u001b[0;34m\u001b[0m\u001b[0;34m\u001b[0m\u001b[0m\n\u001b[1;32m    470\u001b[0m         \u001b[0ms11\u001b[0m \u001b[0;34m=\u001b[0m \u001b[0mMergeRegions\u001b[0m\u001b[0;34m(\u001b[0m\u001b[0mupperlist\u001b[0m\u001b[0;34m,\u001b[0m \u001b[0mr\u001b[0m\u001b[0;34m.\u001b[0m\u001b[0mUPPER\u001b[0m\u001b[0;34m,\u001b[0m \u001b[0ms1\u001b[0m\u001b[0;34m)\u001b[0m\u001b[0;34m\u001b[0m\u001b[0;34m\u001b[0m\u001b[0m\n\u001b[0;32m--> 471\u001b[0;31m     \u001b[0;32mreturn\u001b[0m \u001b[0mConcatLists\u001b[0m\u001b[0;34m(\u001b[0m\u001b[0;34m[\u001b[0m\u001b[0ms11\u001b[0m\u001b[0;34m]\u001b[0m\u001b[0;34m,\u001b[0m \u001b[0mCollectRegions\u001b[0m\u001b[0;34m(\u001b[0m\u001b[0msnodelist1\u001b[0m\u001b[0;34m)\u001b[0m\u001b[0;34m)\u001b[0m\u001b[0;34m\u001b[0m\u001b[0;34m\u001b[0m\u001b[0m\n\u001b[0m\u001b[1;32m    472\u001b[0m \u001b[0;34m\u001b[0m\u001b[0m\n\u001b[1;32m    473\u001b[0m \u001b[0;34m\u001b[0m\u001b[0m\n",
      "\u001b[0;32m~/OpenCVProjects/Dell Laptop/quickmaths_git/quickmaths/utils/parser_v2.py\u001b[0m in \u001b[0;36mCollectRegions\u001b[0;34m(snodelist)\u001b[0m\n\u001b[1;32m    469\u001b[0m         \u001b[0mupperlist\u001b[0m \u001b[0;34m=\u001b[0m \u001b[0;34m[\u001b[0m\u001b[0mr\u001b[0m\u001b[0;34m.\u001b[0m\u001b[0mTLEFT\u001b[0m\u001b[0;34m,\u001b[0m \u001b[0mr\u001b[0m\u001b[0;34m.\u001b[0m\u001b[0mABOVE\u001b[0m\u001b[0;34m,\u001b[0m \u001b[0mr\u001b[0m\u001b[0;34m.\u001b[0m\u001b[0mSUPER\u001b[0m\u001b[0;34m]\u001b[0m\u001b[0;34m\u001b[0m\u001b[0;34m\u001b[0m\u001b[0m\n\u001b[1;32m    470\u001b[0m         \u001b[0ms11\u001b[0m \u001b[0;34m=\u001b[0m \u001b[0mMergeRegions\u001b[0m\u001b[0;34m(\u001b[0m\u001b[0mupperlist\u001b[0m\u001b[0;34m,\u001b[0m \u001b[0mr\u001b[0m\u001b[0;34m.\u001b[0m\u001b[0mUPPER\u001b[0m\u001b[0;34m,\u001b[0m \u001b[0ms1\u001b[0m\u001b[0;34m)\u001b[0m\u001b[0;34m\u001b[0m\u001b[0;34m\u001b[0m\u001b[0m\n\u001b[0;32m--> 471\u001b[0;31m     \u001b[0;32mreturn\u001b[0m \u001b[0mConcatLists\u001b[0m\u001b[0;34m(\u001b[0m\u001b[0;34m[\u001b[0m\u001b[0ms11\u001b[0m\u001b[0;34m]\u001b[0m\u001b[0;34m,\u001b[0m \u001b[0mCollectRegions\u001b[0m\u001b[0;34m(\u001b[0m\u001b[0msnodelist1\u001b[0m\u001b[0;34m)\u001b[0m\u001b[0;34m)\u001b[0m\u001b[0;34m\u001b[0m\u001b[0;34m\u001b[0m\u001b[0m\n\u001b[0m\u001b[1;32m    472\u001b[0m \u001b[0;34m\u001b[0m\u001b[0m\n\u001b[1;32m    473\u001b[0m \u001b[0;34m\u001b[0m\u001b[0m\n",
      "\u001b[0;32m~/OpenCVProjects/Dell Laptop/quickmaths_git/quickmaths/utils/parser_v2.py\u001b[0m in \u001b[0;36mCollectRegions\u001b[0;34m(snodelist)\u001b[0m\n\u001b[1;32m    448\u001b[0m         \u001b[0;32mreturn\u001b[0m \u001b[0msnodelist\u001b[0m\u001b[0;34m\u001b[0m\u001b[0;34m\u001b[0m\u001b[0m\n\u001b[1;32m    449\u001b[0m     \u001b[0ms1\u001b[0m \u001b[0;34m=\u001b[0m \u001b[0msnodelist\u001b[0m\u001b[0;34m[\u001b[0m\u001b[0;36m0\u001b[0m\u001b[0;34m]\u001b[0m\u001b[0;34m\u001b[0m\u001b[0;34m\u001b[0m\u001b[0m\n\u001b[0;32m--> 450\u001b[0;31m     \u001b[0ms11\u001b[0m \u001b[0;34m=\u001b[0m \u001b[0ms1\u001b[0m\u001b[0;34m.\u001b[0m\u001b[0mcopy\u001b[0m\u001b[0;34m(\u001b[0m\u001b[0;34m)\u001b[0m\u001b[0;34m\u001b[0m\u001b[0;34m\u001b[0m\u001b[0m\n\u001b[0m\u001b[1;32m    451\u001b[0m     \u001b[0msnodelist\u001b[0m\u001b[0;34m.\u001b[0m\u001b[0mremove\u001b[0m\u001b[0;34m(\u001b[0m\u001b[0ms1\u001b[0m\u001b[0;34m)\u001b[0m\u001b[0;34m\u001b[0m\u001b[0;34m\u001b[0m\u001b[0m\n\u001b[1;32m    452\u001b[0m     \u001b[0msnodelist1\u001b[0m \u001b[0;34m=\u001b[0m \u001b[0msnodelist\u001b[0m  \u001b[0;31m# listsub(snodelist, [s1])\u001b[0m\u001b[0;34m\u001b[0m\u001b[0;34m\u001b[0m\u001b[0m\n",
      "\u001b[0;31mAttributeError\u001b[0m: 'NoneType' object has no attribute 'copy'"
     ]
    }
   ],
   "source": [
    "root = BuildBST(nlist)"
   ]
  },
  {
   "cell_type": "code",
   "execution_count": null,
   "metadata": {},
   "outputs": [],
   "source": [
    "print(root)"
   ]
  },
  {
   "cell_type": "code",
   "execution_count": null,
   "metadata": {},
   "outputs": [],
   "source": [
    "node_six.min_x"
   ]
  },
  {
   "cell_type": "code",
   "execution_count": null,
   "metadata": {},
   "outputs": [],
   "source": [
    "node_two1.centroid_x"
   ]
  },
  {
   "cell_type": "code",
   "execution_count": null,
   "metadata": {},
   "outputs": [],
   "source": []
  }
 ],
 "metadata": {
  "kernelspec": {
   "display_name": "Python 3",
   "language": "python",
   "name": "python3"
  },
  "language_info": {
   "codemirror_mode": {
    "name": "ipython",
    "version": 3
   },
   "file_extension": ".py",
   "mimetype": "text/x-python",
   "name": "python",
   "nbconvert_exporter": "python",
   "pygments_lexer": "ipython3",
   "version": "3.7.2"
  }
 },
 "nbformat": 4,
 "nbformat_minor": 2
}
